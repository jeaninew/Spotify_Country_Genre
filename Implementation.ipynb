{
  "nbformat": 4,
  "nbformat_minor": 0,
  "metadata": {
    "colab": {
      "name": "Implementation.ipynb",
      "provenance": [],
      "collapsed_sections": []
    },
    "kernelspec": {
      "name": "python3",
      "display_name": "Python 3"
    }
  },
  "cells": [
    {
      "cell_type": "code",
      "metadata": {
        "id": "EkqF7nwxd3Sw",
        "colab": {
          "resources": {
            "http://localhost:8080/nbextensions/google.colab/files.js": {
              "data": "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",
              "ok": true,
              "headers": [
                [
                  "content-type",
                  "application/javascript"
                ]
              ],
              "status": 200,
              "status_text": ""
            }
          },
          "base_uri": "https://localhost:8080/",
          "height": 72
        },
        "outputId": "4dbf87c9-9f30-4ee7-da32-12ad0bc0adc3"
      },
      "source": [
        "# Loading data into the colab environment\n",
        "\n",
        "from google.colab import files\n",
        "uploaded = files.upload()"
      ],
      "execution_count": null,
      "outputs": [
        {
          "output_type": "display_data",
          "data": {
            "text/html": [
              "\n",
              "     <input type=\"file\" id=\"files-633e8af7-1db1-41ca-826b-f0bc7a949c8c\" name=\"files[]\" multiple disabled\n",
              "        style=\"border:none\" />\n",
              "     <output id=\"result-633e8af7-1db1-41ca-826b-f0bc7a949c8c\">\n",
              "      Upload widget is only available when the cell has been executed in the\n",
              "      current browser session. Please rerun this cell to enable.\n",
              "      </output>\n",
              "      <script src=\"/nbextensions/google.colab/files.js\"></script> "
            ],
            "text/plain": [
              "<IPython.core.display.HTML object>"
            ]
          },
          "metadata": {
            "tags": []
          }
        },
        {
          "output_type": "stream",
          "text": [
            "Saving ConsolidatedCountryData_Brazil.csv to ConsolidatedCountryData_Brazil.csv\n"
          ],
          "name": "stdout"
        }
      ]
    },
    {
      "cell_type": "code",
      "metadata": {
        "id": "3Hny8hzdkHGu"
      },
      "source": [
        "#Importing methods to be used later on\n",
        "\n",
        "import pandas as pd\n",
        "import matplotlib.pyplot as plt"
      ],
      "execution_count": null,
      "outputs": []
    },
    {
      "cell_type": "code",
      "metadata": {
        "id": "Yb6g5QNskLE_",
        "colab": {
          "base_uri": "https://localhost:8080/"
        },
        "outputId": "a670fc33-f2e8-41c8-c892-a316e236d5c0"
      },
      "source": [
        "# Part 1 Data Acquisition\n",
        "\n",
        "# Read data from a CSV file into a data frame\n",
        "# Put name of file you uploaded in brackets if working in Google Colab\n",
        "df = pd.read_csv(r'ConsolidatedCountryData_Brazil.csv')\n",
        "#df = df.drop_duplicates()\n",
        "\n",
        "\n",
        "# Display the first ten rows of the data frame to examine if it is an individual-level data set\n",
        "print(df.head(10))\n",
        "\n",
        "# Display the variable list\n",
        "print(df.columns.values)\n",
        "\n",
        "# Display the number of rows and the number of columns in the data set to confirm the portrait shape\n",
        "# The first element of the output is the number of rows and the second is the number of columns \n",
        "print(df.shape)"
      ],
      "execution_count": null,
      "outputs": [
        {
          "output_type": "stream",
          "text": [
            "       Song Name                           Artist  ...  time_signature  Approved\n",
            "0       24kGoldn           Mood (feat. iann dior)  ...               4         0\n",
            "1  Ariana Grande                        positions  ...               4         0\n",
            "2       Ashnikko                            Daisy  ...               4         0\n",
            "3        Ava Max                   Kings & Queens  ...               4         0\n",
            "4            BTS                         Dynamite  ...               4         0\n",
            "5        Cardi B  WAP (feat. Megan Thee Stallion)  ...               4         0\n",
            "6    Chris Brown                         Go Crazy  ...               4         0\n",
            "7     Conan Gray                          Heather  ...               3         0\n",
            "8         DaBaby     ROCKSTAR (feat. Roddy Ricch)  ...               4         0\n",
            "9      DJ Khaled            POPSTAR (feat. Drake)  ...               4         0\n",
            "\n",
            "[10 rows x 15 columns]\n",
            "['Song Name' 'Artist' 'danceability' 'energy' 'key' 'loudness' 'mode'\n",
            " 'speechiness' 'acousticness' 'instrumentalness' 'liveness' 'valence'\n",
            " 'tempo' 'time_signature' 'Approved']\n",
            "(419, 15)\n"
          ],
          "name": "stdout"
        }
      ]
    },
    {
      "cell_type": "code",
      "metadata": {
        "id": "X7w-GyUcMfPt"
      },
      "source": [
        "#Categorical and Numerical list building\n",
        "#Remove Artist and Song Name for Feature Selection\n",
        "df = df.drop(['Artist','Song Name','key','time_signature'],axis = 1)\n",
        "df_sample1 = df\n",
        "# Separate all the variables into two lists for future column indexing\n",
        "# One for numerical, the other for categorical \n",
        "cvar_list = ['mode','Approved']\n",
        "nvar_list = ['danceability', 'energy', 'loudness', 'speechiness', \n",
        "             'acousticness', 'instrumentalness', 'liveness', 'valence', 'tempo']"
      ],
      "execution_count": null,
      "outputs": []
    },
    {
      "cell_type": "code",
      "metadata": {
        "colab": {
          "base_uri": "https://localhost:8080/"
        },
        "id": "GMUuuLO7Mqmy",
        "outputId": "5ff999f9-ca5b-4fb5-8836-f6922a75f71f"
      },
      "source": [
        "# Part 4 Variable transformation\n",
        "\n",
        "# Standardize the numerical variables \n",
        "df_sample5 = df_sample1.copy()\n",
        "df_sample5[nvar_list] = (df_sample1[nvar_list] - df_sample1[nvar_list].mean())/df_sample1[nvar_list].std()\n",
        "\n",
        "# Set the datatype for the variables in the cvar_list to be categorical in Python\n",
        "# Set the datatype for the variables in the nvar_list to be numerical in Python \n",
        "df_sample6 = df_sample5.copy()\n",
        "df_sample6[cvar_list] = df_sample5[cvar_list].astype('category')\n",
        "df_sample6[nvar_list] = df_sample5[nvar_list].astype('float64')\n",
        "\n",
        "# Convert the categorical variables into dummies (Step 1 of dummy coding)\n",
        "df_sample7 = df_sample6.copy()\n",
        "df_sample7 = pd.get_dummies(df_sample6, prefix_sep='_')\n",
        "\n",
        "# Remove the redundant dummies (Step 2 of dummy coding)\n",
        "# Placeholder variable: rdummies\n",
        "rdummies = ['Approved_0']\n",
        "df_sample8 = df_sample7.copy()\n",
        "df_sample8 = df_sample7.drop(columns=rdummies)\n",
        "\n",
        "# Get the remaining variable list after the variable transformation\n",
        "print(df_sample8.columns.values)\n",
        "\n",
        "# Display the milestone dataframe. Compare it with the original dataframe.\n",
        "print(df_sample8)\n",
        "print(df)"
      ],
      "execution_count": null,
      "outputs": [
        {
          "output_type": "stream",
          "text": [
            "['danceability' 'energy' 'loudness' 'speechiness' 'acousticness'\n",
            " 'instrumentalness' 'liveness' 'valence' 'tempo' 'mode_0' 'mode_1'\n",
            " 'Approved_1']\n",
            "     danceability    energy  loudness  ...  mode_0  mode_1  Approved_1\n",
            "0        0.171802  0.522272  1.238997  ...       1       0           0\n",
            "1        0.420122  1.027934  0.688680  ...       0       1           0\n",
            "2        1.096103  0.149345  0.054509  ...       0       1           0\n",
            "3       -0.262757  0.320007  1.010348  ...       1       0           0\n",
            "4        0.489100  0.794065  0.848597  ...       1       0           0\n",
            "..            ...       ...       ...  ...     ...     ...         ...\n",
            "414     -2.359679 -0.014995  0.622239  ...       1       0           0\n",
            "415     -0.228268 -1.677361 -1.431485  ...       0       1           0\n",
            "416      0.302860 -0.261505  0.003647  ...       0       1           0\n",
            "417     -1.111183  0.572838  0.150276  ...       0       1           0\n",
            "418      0.737419 -0.817734  0.246502  ...       1       0           0\n",
            "\n",
            "[419 rows x 12 columns]\n",
            "     danceability  energy  loudness  mode  ...  liveness  valence    tempo  Approved\n",
            "0           0.700   0.722    -3.558     0  ...    0.2720   0.7560   90.989         0\n",
            "1           0.736   0.802    -4.759     1  ...    0.0940   0.6750  144.005         0\n",
            "2           0.834   0.663    -6.143     1  ...    0.3720   0.7740  121.876         0\n",
            "3           0.637   0.690    -4.057     0  ...    0.1240   0.4570  129.857         0\n",
            "4           0.746   0.765    -4.410     0  ...    0.0936   0.7370  114.044         0\n",
            "..            ...     ...       ...   ...  ...       ...      ...      ...       ...\n",
            "414         0.333   0.637    -4.904     0  ...    0.1490   0.1320  139.898         0\n",
            "415         0.642   0.374    -9.386     1  ...    0.0906   0.0799  124.099         0\n",
            "416         0.719   0.598    -6.254     1  ...    0.1150   0.3030  142.592         0\n",
            "417         0.514   0.730    -5.934     1  ...    0.0897   0.3340  171.005         0\n",
            "418         0.782   0.510    -5.724     0  ...    0.1150   0.1180   99.993         0\n",
            "\n",
            "[419 rows x 11 columns]\n"
          ],
          "name": "stdout"
        }
      ]
    },
    {
      "cell_type": "code",
      "metadata": {
        "colab": {
          "base_uri": "https://localhost:8080/"
        },
        "id": "b3ogYGwTMvqT",
        "outputId": "f5f857d3-c5fe-4733-af16-0c3a65897d5d"
      },
      "source": [
        "# Part 5 Data Partiton\n",
        "\n",
        "# Required package: scikit-learn. Package name in Python: sklearn\n",
        "# Required subpackage: model_selection. Required function name: train_test_split\n",
        "from sklearn.model_selection import train_test_split\n",
        "\n",
        "# Placeholder variables: df4partition, testpart_size\n",
        "# test_size specifies the percentage for the test partition\n",
        "df4partition = df_sample8\n",
        "testpart_size = 0.2\n",
        "\n",
        "# random_state specifies the seed for random number generator. \n",
        "# random_state = 1 unless otherwised noted\n",
        "df_nontestData, df_testData = train_test_split(df4partition, test_size=testpart_size, random_state=1)\n",
        "\n",
        "print(df_nontestData)"
      ],
      "execution_count": null,
      "outputs": [
        {
          "output_type": "stream",
          "text": [
            "     danceability    energy  loudness  ...  mode_0  mode_1  Approved_1\n",
            "358     -1.276730 -0.135090  0.278118  ...       0       1           0\n",
            "245     -0.014438  0.408498 -0.822058  ...       0       1           0\n",
            "207     -0.973228  0.016609  0.317983  ...       0       1           0\n",
            "122      0.785704  0.452743  0.922828  ...       0       1           0\n",
            "377      0.551180 -0.387921 -1.223455  ...       1       0           0\n",
            "..            ...       ...       ...  ...     ...     ...         ...\n",
            "255      0.489100 -0.179335 -0.353761  ...       1       0           0\n",
            "72       0.599464 -0.267826  0.438036  ...       1       0           1\n",
            "396     -0.173086 -0.166694  0.060466  ...       1       0           0\n",
            "235      0.489100  0.794065  0.848597  ...       1       0           0\n",
            "37       0.233882 -0.577545 -1.022298  ...       0       1           0\n",
            "\n",
            "[335 rows x 12 columns]\n"
          ],
          "name": "stdout"
        }
      ]
    },
    {
      "cell_type": "code",
      "metadata": {
        "id": "Ld4TXRWRMyNe"
      },
      "source": [
        "# Part 6 Nearest neighbor \n",
        "\n",
        "# Required package: scikit-learn. Package name in Python: sklearn\n",
        "# Required subpackage: neighbors \n",
        "# Required function name: KNeighborsClassifier\n",
        "from sklearn.neighbors import KNeighborsClassifier\n",
        "\n",
        "# Separate the predictor values and the DV values into X and y respectively\n",
        "# Placeholder variable: DV\n",
        "DV = 'Approved_1'\n",
        "y = df_nontestData[DV]\n",
        "X = df_nontestData.drop(columns=[DV])"
      ],
      "execution_count": null,
      "outputs": []
    },
    {
      "cell_type": "code",
      "metadata": {
        "colab": {
          "base_uri": "https://localhost:8080/"
        },
        "id": "dE9Dd-tEGaAH",
        "outputId": "cdf434f4-41c6-4804-ffeb-c727f1f02c01"
      },
      "source": [
        "#kNN ##################################################################\n",
        "print('kNN')\n",
        "# First we build a kNN model with pre-specified k\n",
        "k = 3\n",
        "kfolds = 5\n",
        "\n",
        "clf = KNeighborsClassifier(metric='euclidean', n_neighbors=k).fit(X,y)\n",
        "\n",
        "# Report the performance over the test partition\n",
        "\n",
        "X_test = df_testData.drop(columns=DV)\n",
        "y_test = df_testData[DV]\n",
        "\n",
        "# y_test_actual is the actual values of the DV in the test partition\n",
        "y_test_actual = df_testData[DV]\n",
        "\n",
        "from sklearn import metrics\n",
        "\n",
        "model_object = clf\n",
        "\n",
        "#ATTENTION TO MATT OR OWA FROM OWA, HAD TO CHANGE THIS FROM 200 AS FUNCTION WOULDNT WORK\n",
        "max_k = 150\n",
        "\n",
        "param_grid = {'n_neighbors': list(range(1, max_k-1))}\n",
        "\n",
        "# Set n_jobs to be -1 to run  on all CPU cores.\n",
        "# The search criterion is to find the model that maximizes \n",
        "# whatever the scoring function - for this case roc_auc - returns.\n",
        "\n",
        "from sklearn.model_selection import GridSearchCV\n",
        "\n",
        "gridsearch = GridSearchCV(KNeighborsClassifier(metric='euclidean'), param_grid, scoring='roc_auc', cv=kfolds, n_jobs=-1)\n",
        "gridsearch.fit(X,y)\n",
        "clf_bestkNN = gridsearch.best_estimator_\n",
        "\n",
        "print('AUC score')\n",
        "# obtain the AUC of the k-NN model with k=5\n",
        "print(metrics.roc_auc_score(y_test, clf_bestkNN.predict_proba(X_test)[:, 1]))\n",
        "y_test_predicted_kNN = clf_bestkNN.predict(X_test)\n",
        "# Display the confusion matrix over the test partition\n",
        "print('Accuracy score')\n",
        "# Display the accuracy over the test partition\n",
        "print(clf_bestkNN.score(X_test, y_test_actual))\n",
        "print('Optimum k')\n",
        "print(clf_bestkNN.n_neighbors)"
      ],
      "execution_count": null,
      "outputs": [
        {
          "output_type": "stream",
          "text": [
            "kNN\n",
            "AUC score\n",
            "0.8614814814814815\n",
            "Accuracy score\n",
            "0.9166666666666666\n",
            "Optimum k\n",
            "15\n"
          ],
          "name": "stdout"
        }
      ]
    },
    {
      "cell_type": "code",
      "metadata": {
        "id": "5gbVDxf2ULho",
        "colab": {
          "base_uri": "https://localhost:8080/"
        },
        "outputId": "4e083b93-10d6-4e68-954b-6e77712260ce"
      },
      "source": [
        "# Display the optimal k (k-th nearest neighbor)\n",
        "\n",
        "\n",
        "# y_test_actual is the actual values of the DV in the test partition\n",
        "y_test_actual = df_testData[DV]\n",
        "\n",
        "# X_test is the predictor values in the test partition\n",
        "X_test = df_testData.drop(columns=[DV])\n",
        "\n",
        "\n",
        "# Get the AUC of the final selected k-NN model\n",
        "from sklearn.metrics import roc_auc_score\n",
        "print(roc_auc_score(y_test_actual, clf_bestkNN.predict_proba(X_test)[:,1]))"
      ],
      "execution_count": null,
      "outputs": [
        {
          "output_type": "stream",
          "text": [
            "0.8614814814814815\n"
          ],
          "name": "stdout"
        }
      ]
    },
    {
      "cell_type": "code",
      "metadata": {
        "colab": {
          "resources": {
            "http://localhost:8080/nbextensions/google.colab/files.js": {
              "data": "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",
              "ok": true,
              "headers": [
                [
                  "content-type",
                  "application/javascript"
                ]
              ],
              "status": 200,
              "status_text": ""
            }
          },
          "base_uri": "https://localhost:8080/",
          "height": 72
        },
        "id": "q4rIEEYku45B",
        "outputId": "77e47a97-f7ee-4d90-cc36-4904a36b834b"
      },
      "source": [
        "# Part7 Score the new data\n",
        "\n",
        "# Upload UsedCar_NewData.csv from the local drive to Colab\n",
        "from google.colab import files\n",
        "uploaded = files.upload()"
      ],
      "execution_count": null,
      "outputs": [
        {
          "output_type": "display_data",
          "data": {
            "text/html": [
              "\n",
              "     <input type=\"file\" id=\"files-650dd6b5-80f4-4145-a760-5f2a9055a161\" name=\"files[]\" multiple disabled\n",
              "        style=\"border:none\" />\n",
              "     <output id=\"result-650dd6b5-80f4-4145-a760-5f2a9055a161\">\n",
              "      Upload widget is only available when the cell has been executed in the\n",
              "      current browser session. Please rerun this cell to enable.\n",
              "      </output>\n",
              "      <script src=\"/nbextensions/google.colab/files.js\"></script> "
            ],
            "text/plain": [
              "<IPython.core.display.HTML object>"
            ]
          },
          "metadata": {
            "tags": []
          }
        },
        {
          "output_type": "stream",
          "text": [
            "Saving This is Kacey Musgraves.csv to This is Kacey Musgraves.csv\n"
          ],
          "name": "stdout"
        }
      ]
    },
    {
      "cell_type": "code",
      "metadata": {
        "colab": {
          "base_uri": "https://localhost:8080/"
        },
        "id": "Jn_SDxIuv5ee",
        "outputId": "330532fe-787b-487d-cb42-0496fdf77f5c"
      },
      "source": [
        "# Load the data from UsedCar_NewData.csv to a Python dataframe df_newdata\n",
        "df_newdata = pd.read_csv(r'This is Kacey Musgraves.csv')\n",
        "\n",
        "# Display the first ten rows of the data frame to examine if it is an individual-level data set\n",
        "print(df_newdata.head(10))\n",
        "\n",
        "# Display the variable list\n",
        "print(df_newdata.columns.values)\n",
        "\n",
        "# Display the number of rows and the number of columns in the data set to confirm the portrait shape\n",
        "# The first element of the output is the number of rows and the second is the number of columns \n",
        "print(df_newdata.shape)"
      ],
      "execution_count": null,
      "outputs": [
        {
          "output_type": "stream",
          "text": [
            "           Song Name           Artist  ...    tempo  time_signature\n",
            "0            Rainbow  Kacey Musgraves  ...  140.070               4\n",
            "1        Butterflies  Kacey Musgraves  ...  147.942               4\n",
            "2          Slow Burn  Kacey Musgraves  ...  165.981               4\n",
            "3         High Horse  Kacey Musgraves  ...  181.075               4\n",
            "4       Space Cowboy  Kacey Musgraves  ...   78.532               4\n",
            "5        Golden Hour  Kacey Musgraves  ...  150.033               4\n",
            "6   Oh, What A World  Kacey Musgraves  ...  181.050               4\n",
            "7  Follow Your Arrow  Kacey Musgraves  ...  126.022               4\n",
            "8        Happy & Sad  Kacey Musgraves  ...  127.968               4\n",
            "9     Lonely Weekend  Kacey Musgraves  ...  162.013               4\n",
            "\n",
            "[10 rows x 14 columns]\n",
            "['Song Name' 'Artist' 'danceability' 'energy' 'key' 'loudness' 'mode'\n",
            " 'speechiness' 'acousticness' 'instrumentalness' 'liveness' 'valence'\n",
            " 'tempo' 'time_signature']\n",
            "(50, 14)\n"
          ],
          "name": "stdout"
        }
      ]
    },
    {
      "cell_type": "code",
      "metadata": {
        "id": "ElViY4sbxqvk"
      },
      "source": [
        "#Remove Artist and Song Name for Feature Selection\n",
        "df_newdata = df_newdata.drop(['Artist','Song Name','key','time_signature'], 1)\n",
        "\n",
        "\n",
        "df_sample1 = df_newdata.copy()\n",
        "\n",
        "\n",
        "\n",
        "# Separate all the variables into two lists for future column indexing\n",
        "# One for numerical, the other for categorical \n",
        "cvar_list = ['mode']\n",
        "nvar_list = ['danceability', 'energy', 'loudness', 'speechiness', \n",
        "             'acousticness', 'instrumentalness', 'liveness', 'valence', 'tempo']"
      ],
      "execution_count": null,
      "outputs": []
    },
    {
      "cell_type": "code",
      "metadata": {
        "colab": {
          "base_uri": "https://localhost:8080/"
        },
        "id": "294C7cX1w5cE",
        "outputId": "f80104b2-a259-4e4c-b6e9-99a9685b6fee"
      },
      "source": [
        "# Part 4 Variable transformation\n",
        "\n",
        "# Standardize the numerical variables \n",
        "df_sample5 = df_sample1.copy()\n",
        "df_sample5[nvar_list] = (df_sample1[nvar_list] - df_sample1[nvar_list].mean())/df_sample1[nvar_list].std()\n",
        "\n",
        "# Set the datatype for the variables in the cvar_list to be categorical in Python\n",
        "# Set the datatype for the variables in the nvar_list to be numerical in Python \n",
        "df_sample6 = df_sample5.copy()\n",
        "df_sample6[cvar_list] = df_sample5[cvar_list].astype('category')\n",
        "df_sample6[nvar_list] = df_sample5[nvar_list].astype('float64')\n",
        "\n",
        "#For kNN model numerical values need to be standardized\n",
        "from sklearn.preprocessing import StandardScaler\n",
        "\n",
        "df_sample6[nvar_list] = StandardScaler().fit_transform(df_sample6[nvar_list])\n",
        "\n",
        "# Convert the categorical variables into dummies (Step 1 of dummy coding)\n",
        "df_sample7 = df_sample6.copy()\n",
        "df_sample7 = pd.get_dummies(df_sample6, prefix_sep='_')\n",
        "\n",
        "# Remove the redundant dummies (Step 2 of dummy coding)\n",
        "# Placeholder variable: rdummies\n",
        "df_sample8 = df_sample7.copy()\n",
        "\n",
        "\n",
        "# Get the remaining variable list after the variable transformation\n",
        "print(df_sample8.columns.values)\n",
        "\n",
        "# Display the milestone dataframe. Compare it with the original dataframe.\n",
        "print(df_sample8)\n",
        "print(df_newdata)"
      ],
      "execution_count": null,
      "outputs": [
        {
          "output_type": "stream",
          "text": [
            "['danceability' 'energy' 'loudness' 'speechiness' 'acousticness'\n",
            " 'instrumentalness' 'liveness' 'valence' 'tempo' 'mode_0' 'mode_1']\n",
            "    danceability    energy  loudness  ...     tempo  mode_0  mode_1\n",
            "0       1.044788  0.563563 -0.116199  ... -0.743778       0       1\n",
            "1      -0.025214  1.726169  0.698260  ... -0.864746       0       1\n",
            "2      -0.787988 -0.633491 -0.533926  ...  1.535041       1       0\n",
            "3       1.203699  1.063053  0.558300  ... -0.895620       0       1\n",
            "4       1.627462 -0.555984  0.273536  ...  0.258496       0       1\n",
            "5      -0.650265  1.553931  0.678343  ...  1.779109       1       0\n",
            "6       1.479145  0.038237  0.768240  ... -0.897051       0       1\n",
            "7      -1.444820 -0.375134  0.564222  ...  1.666422       0       1\n",
            "8       0.080727 -0.185673  0.014071  ...  1.663986       0       1\n",
            "9       0.705778 -0.444029 -1.639610  ... -0.865873       1       0\n",
            "10     -2.080465 -0.599044  0.225626  ... -1.144894       1       0\n",
            "11      1.097758 -1.132981  0.355358  ... -0.773647       0       1\n",
            "12      0.038351  0.632458  0.748861  ... -1.262665       0       1\n",
            "13     -0.364224 -0.590432 -0.280383  ...  1.776612       1       0\n",
            "14      0.504490  1.054441  1.058388  ... -0.896807       1       0\n",
            "15     -1.857990  0.219087 -1.298861  ...  1.422842       1       0\n",
            "16      0.843501 -1.882217 -1.350539  ...  0.200645       1       0\n",
            "17     -2.461852 -0.185673 -1.621307  ... -0.997985       0       1\n",
            "18     -0.099372  0.847755  0.850063  ... -0.836765       1       0\n",
            "19     -0.035808  0.537727  0.811305  ...  1.782214       1       0\n",
            "20     -0.586700  0.839143  0.588984  ...  1.601021       0       1\n",
            "21      1.203699  0.778860  0.355897  ... -0.743656       0       1\n",
            "22     -1.137592  1.063053  0.741863  ... -0.877960       1       0\n",
            "23     -1.476603  1.390305  0.940499  ... -0.769293       0       1\n",
            "24      0.271420  1.398917  0.431798  ... -0.835090       0       1\n",
            "25      1.436769 -0.478477 -0.151727  ...  0.808196       0       1\n",
            "26     -0.385413  1.226679  0.169104  ... -0.895072       0       1\n",
            "27      0.493896 -0.952131  0.109352  ... -0.040195       1       0\n",
            "28     -0.046402 -2.028619 -0.924737  ...  0.808897       1       0\n",
            "29      0.642213 -0.297627 -0.104895  ...  0.505426       1       0\n",
            "30     -0.152343 -0.538760  1.437895  ... -0.167344       1       0\n",
            "31     -1.264721  0.064073 -0.701878  ... -1.282700       1       0\n",
            "32     -1.010463 -0.797117 -1.032399  ...  1.174328       0       1\n",
            "33      1.659245  0.064073  1.279094  ... -0.759093       1       0\n",
            "34     -1.656702  0.529115  0.468941  ... -0.863010       1       0\n",
            "35      0.621025 -0.736834  0.088358  ... -0.106053       1       0\n",
            "36     -0.968087  0.494667  0.174487  ...  0.132808       0       1\n",
            "37      0.154885  0.554951  0.189560  ...  0.929987       1       0\n",
            "38     -0.671453  0.081296  0.713333  ...  1.052903       0       1\n",
            "39     -0.152343  1.200843  1.290399  ...  1.662068       1       0\n",
            "40     -0.131155 -1.176041  0.085666  ...  0.261419       0       1\n",
            "41     -0.300660 -1.787486 -1.979282  ...  0.014885       1       0\n",
            "42      0.218450 -2.485049 -2.436843  ... -0.532289       0       1\n",
            "43      0.642213  0.115744 -0.240548  ...  0.565346       0       1\n",
            "44     -0.067590 -0.624879 -1.755346  ...  0.320365       0       1\n",
            "45      1.256670 -1.443010 -2.682850  ... -0.866603       0       1\n",
            "46      0.515084  0.718577  1.162820  ... -0.255916       0       1\n",
            "47      0.515084  0.994158  0.834452  ... -0.896016       0       1\n",
            "48      1.394393 -0.969355 -0.978568  ... -1.017227       1       0\n",
            "49      0.165480  1.149172  1.162820  ... -0.835669       1       0\n",
            "\n",
            "[50 rows x 11 columns]\n",
            "    danceability  energy  loudness  ...  liveness  valence    tempo\n",
            "0          0.845   0.733    -6.037  ...    0.3570    0.394   97.010\n",
            "1          0.744   0.868    -4.524  ...    0.0822    0.586   93.037\n",
            "2          0.672   0.594    -6.813  ...    0.1520    0.158  171.854\n",
            "3          0.860   0.791    -4.784  ...    0.1060    0.887   92.023\n",
            "4          0.900   0.603    -5.313  ...    0.1340    0.824  129.928\n",
            "5          0.685   0.848    -4.561  ...    0.0783    0.761  179.870\n",
            "6          0.886   0.672    -4.394  ...    0.1010    0.526   91.976\n",
            "7          0.610   0.624    -4.773  ...    0.2430    0.244  176.169\n",
            "8          0.754   0.646    -5.795  ...    0.1080    0.429  176.089\n",
            "9          0.813   0.616    -8.867  ...    0.1220    0.347   93.000\n",
            "10         0.550   0.598    -5.402  ...    0.0955    0.543   83.836\n",
            "11         0.850   0.536    -5.161  ...    0.0996    0.505   96.029\n",
            "12         0.750   0.741    -4.430  ...    0.1210    0.495   79.968\n",
            "13         0.712   0.599    -6.342  ...    0.1030    0.588  179.788\n",
            "14         0.794   0.790    -3.855  ...    0.0893    0.577   91.984\n",
            "15         0.571   0.693    -8.234  ...    0.1730    0.393  168.169\n",
            "16         0.826   0.449    -8.330  ...    0.2730    0.337  128.028\n",
            "17         0.514   0.646    -8.833  ...    0.0958    0.297   88.661\n",
            "18         0.737   0.766    -4.242  ...    0.1140    0.662   93.956\n",
            "19         0.743   0.730    -4.314  ...    0.0778    0.150  179.972\n",
            "20         0.691   0.765    -4.727  ...    0.2030    0.855  174.021\n",
            "21         0.860   0.758    -5.160  ...    0.3440    0.453   97.014\n",
            "22         0.639   0.791    -4.443  ...    0.3620    0.939   92.603\n",
            "23         0.607   0.829    -4.074  ...    0.1070    0.685   96.172\n",
            "24         0.772   0.830    -5.019  ...    0.0843    0.697   94.011\n",
            "25         0.882   0.612    -6.103  ...    0.1820    0.742  147.982\n",
            "26         0.710   0.810    -5.507  ...    0.1540    0.184   92.041\n",
            "27         0.793   0.557    -5.618  ...    0.1030    0.468  120.118\n",
            "28         0.742   0.432    -7.539  ...    0.0796    0.252  148.005\n",
            "29         0.807   0.633    -6.016  ...    0.1070    0.325  138.038\n",
            "30         0.732   0.605    -3.150  ...    0.1140    0.143  115.942\n",
            "31         0.627   0.675    -7.125  ...    0.0784    0.961   79.310\n",
            "32         0.651   0.575    -7.739  ...    0.0961    0.248  160.007\n",
            "33         0.903   0.675    -3.445  ...    0.0595    0.442   96.507\n",
            "34         0.590   0.729    -4.950  ...    0.6590    0.712   93.094\n",
            "35         0.805   0.582    -5.657  ...    0.1630    0.307  117.955\n",
            "36         0.655   0.725    -5.497  ...    0.0611    0.326  125.800\n",
            "37         0.761   0.732    -5.469  ...    0.0716    0.542  151.982\n",
            "38         0.683   0.677    -4.496  ...    0.0998    0.514  156.019\n",
            "39         0.732   0.807    -3.424  ...    0.0975    0.724  176.026\n",
            "40         0.734   0.531    -5.662  ...    0.1190    0.199  130.024\n",
            "41         0.718   0.460    -9.498  ...    0.0981    0.520  121.927\n",
            "42         0.767   0.379   -10.348  ...    0.2170    0.252  103.956\n",
            "43         0.807   0.681    -6.268  ...    0.0962    0.676  140.006\n",
            "44         0.740   0.595    -9.082  ...    0.1630    0.316  131.960\n",
            "45         0.865   0.500   -10.805  ...    0.0980    0.317   92.976\n",
            "46         0.795   0.751    -3.661  ...    0.0983    0.537  113.033\n",
            "47         0.795   0.783    -4.271  ...    0.4370    0.799   92.010\n",
            "48         0.878   0.555    -7.639  ...    0.1510    0.751   88.029\n",
            "49         0.762   0.801    -3.661  ...    0.2540    0.810   93.992\n",
            "\n",
            "[50 rows x 10 columns]\n"
          ],
          "name": "stdout"
        }
      ]
    },
    {
      "cell_type": "code",
      "metadata": {
        "id": "vdUjDPGNzYR-",
        "colab": {
          "base_uri": "https://localhost:8080/"
        },
        "outputId": "75a43f32-ced0-44bf-afa9-f32d866dbe39"
      },
      "source": [
        "X = df_sample8\n",
        "\n",
        "df_sample8['Approved'] = clf.predict(X)\n",
        "\n",
        "df_sample8['Approved']"
      ],
      "execution_count": null,
      "outputs": [
        {
          "output_type": "execute_result",
          "data": {
            "text/plain": [
              "0     0\n",
              "1     0\n",
              "2     0\n",
              "3     0\n",
              "4     1\n",
              "5     0\n",
              "6     0\n",
              "7     0\n",
              "8     0\n",
              "9     0\n",
              "10    0\n",
              "11    0\n",
              "12    0\n",
              "13    0\n",
              "14    0\n",
              "15    0\n",
              "16    0\n",
              "17    0\n",
              "18    0\n",
              "19    0\n",
              "20    0\n",
              "21    0\n",
              "22    0\n",
              "23    0\n",
              "24    0\n",
              "25    0\n",
              "26    0\n",
              "27    0\n",
              "28    0\n",
              "29    0\n",
              "30    0\n",
              "31    0\n",
              "32    0\n",
              "33    0\n",
              "34    1\n",
              "35    0\n",
              "36    0\n",
              "37    0\n",
              "38    0\n",
              "39    0\n",
              "40    0\n",
              "41    0\n",
              "42    0\n",
              "43    0\n",
              "44    0\n",
              "45    0\n",
              "46    0\n",
              "47    1\n",
              "48    0\n",
              "49    0\n",
              "Name: Approved, dtype: uint8"
            ]
          },
          "metadata": {
            "tags": []
          },
          "execution_count": 75
        }
      ]
    },
    {
      "cell_type": "code",
      "metadata": {
        "colab": {
          "base_uri": "https://localhost:8080/"
        },
        "id": "OsFcnMtVpjas",
        "outputId": "697537a5-c4a1-448e-fc93-c4afef5c6626"
      },
      "source": [
        "Pass_rate = len([i for i in df_sample8['Approved'] if i == 1])/len(df_sample8['Approved'])\n",
        "Song_Count = len([i for i in df_sample8['Approved'] if i == 1])\n",
        "Pass_rate\n",
        "Song_Count"
      ],
      "execution_count": null,
      "outputs": [
        {
          "output_type": "execute_result",
          "data": {
            "text/plain": [
              "3"
            ]
          },
          "metadata": {
            "tags": []
          },
          "execution_count": 76
        }
      ]
    },
    {
      "cell_type": "code",
      "metadata": {
        "id": "4mvzXMP_Kl0k"
      },
      "source": [
        "import csv\n",
        "\n",
        "with open('This is Kacey Musgraves_Brazil.csv','a') as f:\n",
        "    writer = csv.writer(f)\n",
        "    writer.writerow([Song_Count])\n",
        "    writer.writerow([Pass_rate])"
      ],
      "execution_count": null,
      "outputs": []
    }
  ]
}